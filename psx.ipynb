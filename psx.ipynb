{
 "cells": [
  {
   "cell_type": "code",
   "execution_count": null,
   "id": "ecad27ab",
   "metadata": {},
   "outputs": [],
   "source": [
    "pip install selenium"
   ]
  },
  {
   "cell_type": "code",
   "execution_count": 1,
   "id": "c02f71e5",
   "metadata": {},
   "outputs": [
    {
     "name": "stdout",
     "output_type": "stream",
     "text": [
      "✅ Finished scrolling\n",
      "['AUTOMOBILE ASSEMBLER', 'SCRIP', 'LDCP', 'OPEN', 'HIGH', 'LOW', 'CURRENT', 'CHANGE', 'VOLUME']\n",
      "['AUTOMOBILE ASSEMBLER', 'AL-Ghazi Tractors', '388.58', '386.11', '427.44', '386.11', '427.44', '38.86', '63,412']\n",
      "['AUTOMOBILE ASSEMBLER', 'Atlas Honda Ltd', '1,149.99', '1157.7', '1165.0', '1144.0', '1144.98', '-4.16', '6,899']\n",
      "['AUTOMOBILE ASSEMBLER', 'Dewan Motors', '37.25', '37.48', '37.48', '36.2', '36.29', '-0.91', '1,878,172']\n",
      "['AUTOMOBILE ASSEMBLER', 'Ghandhara Automobile', '478.30', '478.3', '479.8', '471.1', '472.99', '-5.83', '331,180']\n"
     ]
    }
   ],
   "source": [
    "from selenium import webdriver\n",
    "from selenium.webdriver.chrome.options import Options\n",
    "from bs4 import BeautifulSoup\n",
    "import time\n",
    "\n",
    "# Setup WebDriver\n",
    "options = Options()\n",
    "options.add_argument(\"--start-maximized\")\n",
    "options.add_argument(\"--disable-gpu\")\n",
    "options.add_argument(\"--no-sandbox\")\n",
    "driver = webdriver.Chrome(options=options)\n",
    "\n",
    "# Open URL\n",
    "url = 'https://www.psx.com.pk/market-summary/'\n",
    "driver.get(url)\n",
    "time.sleep(3)\n",
    "\n",
    "# Scroll to load dynamic content\n",
    "scroll_pause_time = 0.5\n",
    "scroll_step = 300\n",
    "last_height = driver.execute_script(\"return document.body.scrollHeight\")\n",
    "\n",
    "while True:\n",
    "    for i in range(0, last_height, scroll_step):\n",
    "        driver.execute_script(f\"window.scrollTo(0, {i});\")\n",
    "        time.sleep(scroll_pause_time)\n",
    "    new_height = driver.execute_script(\"return document.body.scrollHeight\")\n",
    "    if new_height == last_height:\n",
    "        break\n",
    "    last_height = new_height\n",
    "\n",
    "print(\"✅ Finished scrolling\")\n",
    "\n",
    "# Parse the page\n",
    "soup = BeautifulSoup(driver.page_source, \"html.parser\")\n",
    "driver.quit()\n",
    "\n",
    "# Find all market sections\n",
    "sections = soup.select(\"div.table-responsive\")\n",
    "\n",
    "# Store data in memory\n",
    "psx_data = []\n",
    "\n",
    "for section in sections:\n",
    "    thead = section.find('thead')\n",
    "    heading_tag = thead.find('h4') if thead else None\n",
    "    heading = heading_tag.text.strip() if heading_tag else \"UNKNOWN CATEGORY\"\n",
    "\n",
    "    table = section.find('table')\n",
    "    tbody = table.find('tbody')\n",
    "    rows = tbody.find_all('tr') if tbody else []\n",
    "\n",
    "    for row in rows:\n",
    "        cols = row.find_all('td')\n",
    "        if len(cols) >= 8:\n",
    "            scrip = cols[0].text.strip()\n",
    "            ldcp = cols[1].text.strip()\n",
    "            open_ = cols[2].text.strip()\n",
    "            high = cols[3].text.strip()\n",
    "            low = cols[4].text.strip()\n",
    "            current = cols[5].text.strip()\n",
    "            change = cols[6].text.strip()\n",
    "            volume = cols[7].text.strip()\n",
    "\n",
    "            psx_data.append([heading, scrip, ldcp, open_, high, low, current, change, volume])\n",
    "\n",
    "# Optional: print preview\n",
    "for row in psx_data[:5]:\n",
    "    print(row)\n"
   ]
  },
  {
   "cell_type": "code",
   "execution_count": 2,
   "id": "ca665943",
   "metadata": {},
   "outputs": [
    {
     "name": "stdout",
     "output_type": "stream",
     "text": [
      "✅ Data written to 'psx_market_data.csv'\n"
     ]
    }
   ],
   "source": [
    "import csv\n",
    "\n",
    "with open(\"psx_market_data.csv\", \"w\", newline='', encoding='utf-8') as csvfile:\n",
    "    writer = csv.writer(csvfile)\n",
    "    writer.writerow([\"CATEGORY\", \"SCRIP\", \"LDCP\", \"OPEN\", \"HIGH\", \"LOW\", \"CURRENT\", \"CHANGE\", \"VOLUME\"])\n",
    "    writer.writerows(psx_data)\n",
    "\n",
    "print(\"✅ Data written to 'psx_market_data.csv'\")"
   ]
  }
 ],
 "metadata": {
  "kernelspec": {
   "display_name": "Python (myenv)",
   "language": "python",
   "name": "myenv"
  },
  "language_info": {
   "codemirror_mode": {
    "name": "ipython",
    "version": 3
   },
   "file_extension": ".py",
   "mimetype": "text/x-python",
   "name": "python",
   "nbconvert_exporter": "python",
   "pygments_lexer": "ipython3",
   "version": "3.10.16"
  }
 },
 "nbformat": 4,
 "nbformat_minor": 5
}
